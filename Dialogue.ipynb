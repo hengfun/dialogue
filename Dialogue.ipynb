{
 "cells": [
  {
   "cell_type": "markdown",
   "metadata": {},
   "source": [
    "# Scenario 1\n",
    "### Greeting + Background"
   ]
  },
  {
   "cell_type": "code",
   "execution_count": 1,
   "metadata": {
    "ExecuteTime": {
     "end_time": "2019-11-15T19:29:08.148008Z",
     "start_time": "2019-11-15T19:29:08.142900Z"
    }
   },
   "outputs": [],
   "source": [
    "# chatbot query\n",
    "query = {}\n",
    "# valid responses\n",
    "responses = {}"
   ]
  },
  {
   "cell_type": "markdown",
   "metadata": {},
   "source": [
    "0. Salutations "
   ]
  },
  {
   "cell_type": "code",
   "execution_count": 2,
   "metadata": {
    "ExecuteTime": {
     "end_time": "2019-11-15T19:29:08.155117Z",
     "start_time": "2019-11-15T19:29:08.151464Z"
    }
   },
   "outputs": [],
   "source": [
    "query[0] = ['hi']\n",
    "responses[0] = ['what\\'s up','hi','how are you?','hello','hey','greetings']\n"
   ]
  },
  {
   "cell_type": "markdown",
   "metadata": {},
   "source": [
    "1. How are you?"
   ]
  },
  {
   "cell_type": "code",
   "execution_count": 3,
   "metadata": {
    "ExecuteTime": {
     "end_time": "2019-11-15T19:29:08.162507Z",
     "start_time": "2019-11-15T19:29:08.157394Z"
    }
   },
   "outputs": [
    {
     "name": "stdout",
     "output_type": "stream",
     "text": [
      "[['i am great', \"i'm great\"], ['i am fine', \"i'm fine\"], ['i am amazing', \"i'm amazing\"], ['i am wonderful', \"i'm wonderful\"], ['i am awesome', \"i'm awesome\"], ['i am good', \"i'm good\"], ['i am bad', \"i'm bad\"], ['i am horrible', \"i'm horrible\"]]\n"
     ]
    }
   ],
   "source": [
    "query[1] = ['how are you?']\n",
    "adj = ['great','fine','amazing','wonderful','awesome','good','bad','horrible']\n",
    "result = [[beg+a for beg in [\"i am \", 'i\\'m ']] for a in adj]\n",
    "responses[1] = result\n",
    "print(responses[1])"
   ]
  },
  {
   "cell_type": "markdown",
   "metadata": {},
   "source": [
    "2. Name?"
   ]
  },
  {
   "cell_type": "code",
   "execution_count": 4,
   "metadata": {
    "ExecuteTime": {
     "end_time": "2019-11-15T19:29:08.166184Z",
     "start_time": "2019-11-15T19:29:08.164012Z"
    }
   },
   "outputs": [],
   "source": [
    "query[2] = ['what\\'s your name?']\n",
    "responses[2] = [\"my name is <pronoun>\"]"
   ]
  },
  {
   "cell_type": "markdown",
   "metadata": {},
   "source": [
    "3. Where are you from?"
   ]
  },
  {
   "cell_type": "code",
   "execution_count": 5,
   "metadata": {
    "ExecuteTime": {
     "end_time": "2019-11-15T19:29:08.171370Z",
     "start_time": "2019-11-15T19:29:08.167560Z"
    }
   },
   "outputs": [
    {
     "name": "stdout",
     "output_type": "stream",
     "text": [
      "['i am from china', 'i am from united states', 'i am from us', 'china', 'united states', 'us']\n"
     ]
    }
   ],
   "source": [
    "query[3] = ['where are you from?']\n",
    "countries = ['china','united states', \"us\"]\n",
    "responses[3] = [\"i am from \"+country for country in countries]+countries\n",
    "print(responses[3])\n"
   ]
  },
  {
   "cell_type": "markdown",
   "metadata": {},
   "source": [
    "4. Work?"
   ]
  },
  {
   "cell_type": "code",
   "execution_count": 6,
   "metadata": {
    "ExecuteTime": {
     "end_time": "2019-11-15T19:29:08.175447Z",
     "start_time": "2019-11-15T19:29:08.172731Z"
    }
   },
   "outputs": [],
   "source": [
    "query[4] = ['what do you do for work?','what is your job?',\"what do you do for a living?\"]\n",
    "responses[4] = ['my job is to <noun>', 'i am a <noun>', 'i work at <noun>', \"i do <noun>\", \"i work in <noun>\", \"i <verb>\"]"
   ]
  },
  {
   "cell_type": "markdown",
   "metadata": {},
   "source": [
    "5. How old are you?"
   ]
  },
  {
   "cell_type": "code",
   "execution_count": 7,
   "metadata": {
    "ExecuteTime": {
     "end_time": "2019-11-15T19:29:08.179958Z",
     "start_time": "2019-11-15T19:29:08.177098Z"
    },
    "scrolled": true
   },
   "outputs": [],
   "source": [
    "query[5] = ['how old are you?',\"what is your age?\",\"when were you born?\"]\n",
    "responses[5] = [[s.format(i) for i in range(18,85)] for s in [\"i am {} years old\", \"i am {}\", \"{}\"]]"
   ]
  },
  {
   "cell_type": "markdown",
   "metadata": {},
   "source": [
    "6. Hobbies"
   ]
  },
  {
   "cell_type": "code",
   "execution_count": 8,
   "metadata": {
    "ExecuteTime": {
     "end_time": "2019-11-15T19:29:08.184657Z",
     "start_time": "2019-11-15T19:29:08.181245Z"
    }
   },
   "outputs": [],
   "source": [
    "query[6] = [\"what do you do for your free time?\",\"what do you like to do?\",\"what are your hobbies?\",\"when your free what do you like to do?\",\"do you have any hobbies?\",\"what do you do for fun?\"]\n",
    "responses[6] = [\"i like to <verb>\", \"when i am free, i <verb>\", \"i <verb>\",\"<verb>\", \"i like to <verb>\"]\n"
   ]
  },
  {
   "cell_type": "markdown",
   "metadata": {},
   "source": [
    "7. "
   ]
  }
 ],
 "metadata": {
  "kernelspec": {
   "display_name": "Python 3",
   "language": "python",
   "name": "python3"
  },
  "language_info": {
   "codemirror_mode": {
    "name": "ipython",
    "version": 3
   },
   "file_extension": ".py",
   "mimetype": "text/x-python",
   "name": "python",
   "nbconvert_exporter": "python",
   "pygments_lexer": "ipython3",
   "version": "3.7.3"
  },
  "varInspector": {
   "cols": {
    "lenName": 16,
    "lenType": 16,
    "lenVar": 40
   },
   "kernels_config": {
    "python": {
     "delete_cmd_postfix": "",
     "delete_cmd_prefix": "del ",
     "library": "var_list.py",
     "varRefreshCmd": "print(var_dic_list())"
    },
    "r": {
     "delete_cmd_postfix": ") ",
     "delete_cmd_prefix": "rm(",
     "library": "var_list.r",
     "varRefreshCmd": "cat(var_dic_list()) "
    }
   },
   "types_to_exclude": [
    "module",
    "function",
    "builtin_function_or_method",
    "instance",
    "_Feature"
   ],
   "window_display": false
  }
 },
 "nbformat": 4,
 "nbformat_minor": 2
}
